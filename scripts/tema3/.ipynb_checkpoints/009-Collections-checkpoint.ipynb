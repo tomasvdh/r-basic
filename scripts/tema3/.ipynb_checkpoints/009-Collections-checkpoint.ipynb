{
 "cells": [
  {
   "cell_type": "markdown",
   "id": "837eb1d8",
   "metadata": {},
   "source": [
    "# Listas\n",
    "Son contenedores que permiten almacenar una colección de objetos en un orden determinado. Se pueden acceder, añadir o eliminar objetos de forma sencilla."
   ]
  },
  {
   "cell_type": "code",
   "execution_count": 1,
   "id": "112f59e8",
   "metadata": {},
   "outputs": [],
   "source": [
    "# Lista vacia\n",
    "L1 = []"
   ]
  },
  {
   "cell_type": "code",
   "execution_count": 2,
   "id": "f19ad35d",
   "metadata": {},
   "outputs": [],
   "source": [
    "# Lista con valores iniciales\n",
    "L2 = [\"a\",\"b\",\"c\",\"d\"]"
   ]
  },
  {
   "cell_type": "code",
   "execution_count": 3,
   "id": "78e31ad8",
   "metadata": {},
   "outputs": [],
   "source": [
    "# Lista con valores enteros\n",
    "L3 = [1,2,3,4,5]"
   ]
  },
  {
   "cell_type": "code",
   "execution_count": 6,
   "id": "9bcf352f",
   "metadata": {},
   "outputs": [
    {
     "data": {
      "text/plain": [
       "[1, 'a', True, 'Tomás']"
      ]
     },
     "execution_count": 6,
     "metadata": {},
     "output_type": "execute_result"
    }
   ],
   "source": [
    "# Lista heterogénea\n",
    "L4 = [1,\"a\",True,\"Tomás\"]\n",
    "L4"
   ]
  },
  {
   "cell_type": "code",
   "execution_count": 7,
   "id": "f33ff333",
   "metadata": {},
   "outputs": [
    {
     "data": {
      "text/plain": [
       "[0, 0, 0, 0, 0, 0, 0, 0, 0, 0]"
      ]
     },
     "execution_count": 7,
     "metadata": {},
     "output_type": "execute_result"
    }
   ],
   "source": [
    "L5 = [0]*10\n",
    "L5"
   ]
  },
  {
   "cell_type": "code",
   "execution_count": 11,
   "id": "a2b5da2f",
   "metadata": {},
   "outputs": [
    {
     "data": {
      "text/plain": [
       "1"
      ]
     },
     "execution_count": 11,
     "metadata": {},
     "output_type": "execute_result"
    }
   ],
   "source": [
    "# Las listas en Python comienzan en la posición número 0\n",
    "L4[0]"
   ]
  },
  {
   "cell_type": "code",
   "execution_count": 12,
   "id": "9f3d79ab",
   "metadata": {},
   "outputs": [
    {
     "name": "stdout",
     "output_type": "stream",
     "text": [
      "[0, 0, 0, 0, 0, 0, 0, 0, 0, 0]\n",
      "[0, 0, 0, 0, 3.1415, 0, 0, 0, 0, 0]\n"
     ]
    }
   ],
   "source": [
    "# Modificación de valores\n",
    "print(L5)\n",
    "L5[4] = 3.1415\n",
    "print(L5)"
   ]
  },
  {
   "cell_type": "code",
   "execution_count": 13,
   "id": "e64fdc85",
   "metadata": {},
   "outputs": [
    {
     "ename": "IndexError",
     "evalue": "list assignment index out of range",
     "output_type": "error",
     "traceback": [
      "\u001b[1;31m---------------------------------------------------------------------------\u001b[0m",
      "\u001b[1;31mIndexError\u001b[0m                                Traceback (most recent call last)",
      "\u001b[1;32m~\\AppData\\Local\\Temp/ipykernel_6936/917666540.py\u001b[0m in \u001b[0;36m<module>\u001b[1;34m\u001b[0m\n\u001b[1;32m----> 1\u001b[1;33m \u001b[0mL5\u001b[0m\u001b[1;33m[\u001b[0m\u001b[1;36m13\u001b[0m\u001b[1;33m]\u001b[0m \u001b[1;33m=\u001b[0m \u001b[1;36m0\u001b[0m\u001b[1;33m\u001b[0m\u001b[1;33m\u001b[0m\u001b[0m\n\u001b[0m",
      "\u001b[1;31mIndexError\u001b[0m: list assignment index out of range"
     ]
    }
   ],
   "source": [
    "L5[13] = 0"
   ]
  },
  {
   "cell_type": "code",
   "execution_count": 14,
   "id": "2511b486",
   "metadata": {},
   "outputs": [
    {
     "ename": "IndexError",
     "evalue": "list index out of range",
     "output_type": "error",
     "traceback": [
      "\u001b[1;31m---------------------------------------------------------------------------\u001b[0m",
      "\u001b[1;31mIndexError\u001b[0m                                Traceback (most recent call last)",
      "\u001b[1;32m~\\AppData\\Local\\Temp/ipykernel_6936/3171372788.py\u001b[0m in \u001b[0;36m<module>\u001b[1;34m\u001b[0m\n\u001b[1;32m----> 1\u001b[1;33m \u001b[0mL5\u001b[0m\u001b[1;33m[\u001b[0m\u001b[1;36m13\u001b[0m\u001b[1;33m]\u001b[0m\u001b[1;33m\u001b[0m\u001b[1;33m\u001b[0m\u001b[0m\n\u001b[0m",
      "\u001b[1;31mIndexError\u001b[0m: list index out of range"
     ]
    }
   ],
   "source": [
    "L5[13]"
   ]
  },
  {
   "cell_type": "code",
   "execution_count": 16,
   "id": "a23ed8b4",
   "metadata": {},
   "outputs": [
    {
     "data": {
      "text/plain": [
       "[1, 'a']"
      ]
     },
     "execution_count": 16,
     "metadata": {},
     "output_type": "execute_result"
    }
   ],
   "source": [
    "# Acceso de posiciones múltiples (incluye la primera, pero no la última)\n",
    "L4[0:2]"
   ]
  },
  {
   "cell_type": "code",
   "execution_count": 17,
   "id": "cc37a1ad",
   "metadata": {},
   "outputs": [
    {
     "name": "stdout",
     "output_type": "stream",
     "text": [
      "[0, 0, 0, 0, 3.1415, 0, 0, 0, 0, 0]\n",
      "[0, 1, 2, 3, 3.1415, 0, 0, 0, 0, 0]\n"
     ]
    }
   ],
   "source": [
    "print(L5)\n",
    "L5[1:4] = [1,2,3]\n",
    "print(L5)"
   ]
  },
  {
   "cell_type": "code",
   "execution_count": 19,
   "id": "7ef2ab2d",
   "metadata": {},
   "outputs": [
    {
     "name": "stdout",
     "output_type": "stream",
     "text": [
      "[0, 1, 2, 3, 3.1415, 0, 0, 0, 0, 0, 9]\n",
      "[0, 1, 2, 3, 3.1415, 0, 0, 0, 0, 0, 9, 9]\n"
     ]
    }
   ],
   "source": [
    "print(L5)\n",
    "L5.append(9)\n",
    "print(L5)"
   ]
  },
  {
   "cell_type": "code",
   "execution_count": 23,
   "id": "23505625",
   "metadata": {},
   "outputs": [
    {
     "name": "stdout",
     "output_type": "stream",
     "text": [
      "[0, 1, 2, 3.1415, 0, 0, 0, 0, 0, 9, 9]\n",
      "[0, 1, 2, 3.1415, 0, 0, 0, 0, 0, 9]\n"
     ]
    }
   ],
   "source": [
    "# Elimina la primera ocurrencia del objeto 9 de la lista L5\n",
    "print(L5)\n",
    "L5.remove(9)\n",
    "print(L5)"
   ]
  },
  {
   "cell_type": "code",
   "execution_count": 24,
   "id": "0d463cfa",
   "metadata": {},
   "outputs": [
    {
     "name": "stdout",
     "output_type": "stream",
     "text": [
      "[0, 1, 2, 3.1415, 0, 0, 0, 0, 0, 9]\n",
      "[9, 0, 0, 0, 0, 0, 3.1415, 2, 1, 0]\n"
     ]
    }
   ],
   "source": [
    "# Girar la lista\n",
    "print(L5)\n",
    "L5.reverse()\n",
    "print(L5)"
   ]
  },
  {
   "cell_type": "code",
   "execution_count": 27,
   "id": "68029299",
   "metadata": {},
   "outputs": [
    {
     "name": "stdout",
     "output_type": "stream",
     "text": [
      "[9, 0, 0, 0, 0, 0, 3.1415, 2, 1, 0]\n",
      "L5.count(0) =  6\n"
     ]
    }
   ],
   "source": [
    "# Contar las ocurrencias de un objeto\n",
    "print(L5)\n",
    "print(\"L5.count(0) = \",L5.count(0))"
   ]
  },
  {
   "cell_type": "code",
   "execution_count": null,
   "id": "f0a5d5d0",
   "metadata": {},
   "outputs": [],
   "source": []
  }
 ],
 "metadata": {
  "kernelspec": {
   "display_name": "Python 3 (ipykernel)",
   "language": "python",
   "name": "python3"
  },
  "language_info": {
   "codemirror_mode": {
    "name": "ipython",
    "version": 3
   },
   "file_extension": ".py",
   "mimetype": "text/x-python",
   "name": "python",
   "nbconvert_exporter": "python",
   "pygments_lexer": "ipython3",
   "version": "3.9.7"
  }
 },
 "nbformat": 4,
 "nbformat_minor": 5
}
