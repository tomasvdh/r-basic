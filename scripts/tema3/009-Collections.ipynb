{
 "cells": [
  {
   "cell_type": "markdown",
   "id": "75bccc97",
   "metadata": {},
   "source": [
    "# Listas\n",
    "Son contenedores que permiten almacenar una colección de objetos en un orden determinado. Se pueden acceder, añadir o eliminar objetos de forma sencilla."
   ]
  },
  {
   "cell_type": "code",
   "execution_count": 1,
   "id": "f7accbc7",
   "metadata": {},
   "outputs": [],
   "source": [
    "# Lista vacia\n",
    "L1 = []"
   ]
  },
  {
   "cell_type": "code",
   "execution_count": 2,
   "id": "4b15380c",
   "metadata": {},
   "outputs": [],
   "source": [
    "# Lista con valores iniciales\n",
    "L2 = [\"a\",\"b\",\"c\",\"d\"]"
   ]
  },
  {
   "cell_type": "code",
   "execution_count": 3,
   "id": "a0a53ce4",
   "metadata": {},
   "outputs": [],
   "source": [
    "# Lista con valores enteros\n",
    "L3 = [1,2,3,4,5]"
   ]
  },
  {
   "cell_type": "code",
   "execution_count": 5,
   "id": "39d00d3e",
   "metadata": {},
   "outputs": [
    {
     "data": {
      "text/plain": [
       "[1, 'a', True, 'Tomás']"
      ]
     },
     "execution_count": 5,
     "metadata": {},
     "output_type": "execute_result"
    }
   ],
   "source": [
    "# Lista hete\n",
    "L4 = [1,\"a\",True,\"Tomás\"]\n",
    "L4"
   ]
  },
  {
   "cell_type": "code",
   "execution_count": null,
   "id": "a4bdabf4",
   "metadata": {},
   "outputs": [],
   "source": []
  }
 ],
 "metadata": {
  "kernelspec": {
   "display_name": "Python 3 (ipykernel)",
   "language": "python",
   "name": "python3"
  },
  "language_info": {
   "codemirror_mode": {
    "name": "ipython",
    "version": 3
   },
   "file_extension": ".py",
   "mimetype": "text/x-python",
   "name": "python",
   "nbconvert_exporter": "python",
   "pygments_lexer": "ipython3",
   "version": "3.9.7"
  }
 },
 "nbformat": 4,
 "nbformat_minor": 5
}
