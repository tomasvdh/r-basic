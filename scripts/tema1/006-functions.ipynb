{
 "cells": [
  {
   "cell_type": "markdown",
   "id": "ff5033c1",
   "metadata": {},
   "source": [
    "# Funciones en Python"
   ]
  },
  {
   "cell_type": "code",
   "execution_count": 1,
   "id": "1dc451f4",
   "metadata": {},
   "outputs": [],
   "source": [
    "def suma(x, y):\n",
    "    return x+y"
   ]
  },
  {
   "cell_type": "code",
   "execution_count": 8,
   "id": "bec85253",
   "metadata": {},
   "outputs": [],
   "source": [
    "class Operaciones(object):\n",
    "    def suma(self, x, y):\n",
    "        self.resultado = x+y\n",
    "        return self.resultado"
   ]
  },
  {
   "cell_type": "code",
   "execution_count": 5,
   "id": "939c2394",
   "metadata": {},
   "outputs": [
    {
     "data": {
      "text/plain": [
       "11"
      ]
     },
     "execution_count": 5,
     "metadata": {},
     "output_type": "execute_result"
    }
   ],
   "source": [
    "suma(5, 6)"
   ]
  },
  {
   "cell_type": "code",
   "execution_count": 9,
   "id": "a0c9c2b9",
   "metadata": {},
   "outputs": [
    {
     "data": {
      "text/plain": [
       "5"
      ]
     },
     "execution_count": 9,
     "metadata": {},
     "output_type": "execute_result"
    }
   ],
   "source": [
    "operInstance = Operaciones()\n",
    "operInstance.suma(2,3)"
   ]
  },
  {
   "cell_type": "code",
   "execution_count": 17,
   "id": "dedeeea9",
   "metadata": {},
   "outputs": [],
   "source": [
    "def saludar():\n",
    "    name = str(input(\"Introduce tu nombre: \"))\n",
    "    if name:\n",
    "        print(\"Hola \" + name)\n",
    "    else:\n",
    "        print(\"Hola, estoy programando\")"
   ]
  },
  {
   "cell_type": "code",
   "execution_count": 18,
   "id": "31d56ed5",
   "metadata": {},
   "outputs": [
    {
     "name": "stdout",
     "output_type": "stream",
     "text": [
      "Introduce tu nombre: juan\n",
      "Hola juan\n"
     ]
    }
   ],
   "source": [
    "saludar()"
   ]
  },
  {
   "cell_type": "code",
   "execution_count": 21,
   "id": "c4cadfeb",
   "metadata": {},
   "outputs": [
    {
     "data": {
      "text/plain": [
       "30"
      ]
     },
     "execution_count": 21,
     "metadata": {},
     "output_type": "execute_result"
    }
   ],
   "source": [
    "suma(4,6)*3"
   ]
  },
  {
   "cell_type": "code",
   "execution_count": 28,
   "id": "c61caf52",
   "metadata": {},
   "outputs": [],
   "source": [
    "def buscaPares():\n",
    "    for x in range(10):\n",
    "        if x % 2 == 0:\n",
    "            return\n",
    "    print(\"Fin de la ejecución\")"
   ]
  },
  {
   "cell_type": "code",
   "execution_count": 29,
   "id": "39a84e1c",
   "metadata": {},
   "outputs": [],
   "source": [
    "buscaPares()"
   ]
  },
  {
   "cell_type": "code",
   "execution_count": 36,
   "id": "7e625b82",
   "metadata": {},
   "outputs": [],
   "source": [
    "def sumaresta(x, y):\n",
    "    suma = x+y\n",
    "    resta = x-y\n",
    "    return (suma, resta)"
   ]
  },
  {
   "cell_type": "code",
   "execution_count": 37,
   "id": "9f20511a",
   "metadata": {},
   "outputs": [
    {
     "data": {
      "text/plain": [
       "(5, -1)"
      ]
     },
     "execution_count": 37,
     "metadata": {},
     "output_type": "execute_result"
    }
   ],
   "source": [
    "sumaresta(x=2,y=3)"
   ]
  },
  {
   "cell_type": "code",
   "execution_count": 34,
   "id": "9cf6e2a5",
   "metadata": {},
   "outputs": [],
   "source": [
    "def sumaresta2(x, y=7):\n",
    "    suma = x+y\n",
    "    resta = x-y\n",
    "    return (suma, resta)"
   ]
  },
  {
   "cell_type": "code",
   "execution_count": 35,
   "id": "78ee5365",
   "metadata": {},
   "outputs": [
    {
     "data": {
      "text/plain": [
       "(10, -4)"
      ]
     },
     "execution_count": 35,
     "metadata": {},
     "output_type": "execute_result"
    }
   ],
   "source": [
    "sumaresta2(x=3)"
   ]
  },
  {
   "cell_type": "markdown",
   "id": "9641f657",
   "metadata": {},
   "source": [
    "# Argumentos variables"
   ]
  },
  {
   "cell_type": "code",
   "execution_count": 38,
   "id": "73e18abb",
   "metadata": {},
   "outputs": [],
   "source": [
    "def suma(*args):\n",
    "    return sum(args)"
   ]
  },
  {
   "cell_type": "code",
   "execution_count": 42,
   "id": "efc32010",
   "metadata": {},
   "outputs": [
    {
     "data": {
      "text/plain": [
       "60"
      ]
     },
     "execution_count": 42,
     "metadata": {},
     "output_type": "execute_result"
    }
   ],
   "source": [
    "suma(1,2,7,10,13,27)"
   ]
  },
  {
   "cell_type": "code",
   "execution_count": 49,
   "id": "8910b1c2",
   "metadata": {},
   "outputs": [],
   "source": [
    "def sumacuadrados(*datos):\n",
    "    total = 0\n",
    "    for d in datos:\n",
    "        total += d**2\n",
    "    return total"
   ]
  },
  {
   "cell_type": "code",
   "execution_count": 50,
   "id": "bc7ca3d2",
   "metadata": {},
   "outputs": [
    {
     "data": {
      "text/plain": [
       "35"
      ]
     },
     "execution_count": 50,
     "metadata": {},
     "output_type": "execute_result"
    }
   ],
   "source": [
    "sumacuadrados(1,3,5)"
   ]
  },
  {
   "cell_type": "code",
   "execution_count": 48,
   "id": "b1b3b6a3",
   "metadata": {},
   "outputs": [
    {
     "data": {
      "text/plain": [
       "3231.21"
      ]
     },
     "execution_count": 48,
     "metadata": {},
     "output_type": "execute_result"
    }
   ],
   "source": [
    "sumacuadrados(-1,3.8,5.9,56.4)"
   ]
  },
  {
   "cell_type": "markdown",
   "id": "15c0ab29",
   "metadata": {},
   "source": [
    "# Funciones anónimas / lambdas"
   ]
  },
  {
   "cell_type": "code",
   "execution_count": 51,
   "id": "0a888735",
   "metadata": {},
   "outputs": [],
   "source": [
    "doble = lambda x: x*2"
   ]
  },
  {
   "cell_type": "code",
   "execution_count": 52,
   "id": "f6afe421",
   "metadata": {},
   "outputs": [
    {
     "data": {
      "text/plain": [
       "8"
      ]
     },
     "execution_count": 52,
     "metadata": {},
     "output_type": "execute_result"
    }
   ],
   "source": [
    "doble(4)"
   ]
  },
  {
   "cell_type": "code",
   "execution_count": 53,
   "id": "21b01249",
   "metadata": {},
   "outputs": [],
   "source": [
    "cuadrado = lambda x: x**2"
   ]
  },
  {
   "cell_type": "code",
   "execution_count": 54,
   "id": "2ed40924",
   "metadata": {},
   "outputs": [
    {
     "data": {
      "text/plain": [
       "25"
      ]
     },
     "execution_count": 54,
     "metadata": {},
     "output_type": "execute_result"
    }
   ],
   "source": [
    "cuadrado(5)"
   ]
  },
  {
   "cell_type": "code",
   "execution_count": 55,
   "id": "0d813500",
   "metadata": {},
   "outputs": [],
   "source": [
    "suma = lambda x,y: x+y"
   ]
  },
  {
   "cell_type": "code",
   "execution_count": 57,
   "id": "6dc58def",
   "metadata": {},
   "outputs": [
    {
     "data": {
      "text/plain": [
       "5"
      ]
     },
     "execution_count": 57,
     "metadata": {},
     "output_type": "execute_result"
    }
   ],
   "source": [
    "suma(2,3)"
   ]
  },
  {
   "cell_type": "code",
   "execution_count": 58,
   "id": "4f6a73f3",
   "metadata": {},
   "outputs": [],
   "source": [
    "from functools import reduce"
   ]
  },
  {
   "cell_type": "code",
   "execution_count": 59,
   "id": "488666ab",
   "metadata": {},
   "outputs": [],
   "source": [
    "data = [1,2,3,4,5,6,7,8,9,10]"
   ]
  },
  {
   "cell_type": "code",
   "execution_count": 73,
   "id": "7f26717c",
   "metadata": {},
   "outputs": [],
   "source": [
    "# Filtro de datos\n",
    "filtered_data = list(filter(lambda x: (x*2 > 8), data))"
   ]
  },
  {
   "cell_type": "code",
   "execution_count": 70,
   "id": "53542a56",
   "metadata": {},
   "outputs": [
    {
     "data": {
      "text/plain": [
       "[5, 6, 7, 8, 9, 10]"
      ]
     },
     "execution_count": 70,
     "metadata": {},
     "output_type": "execute_result"
    }
   ],
   "source": [
    "filtered_data"
   ]
  },
  {
   "cell_type": "code",
   "execution_count": 74,
   "id": "c82472a2",
   "metadata": {},
   "outputs": [],
   "source": [
    "# Mapeo de datos / Cambio de datos\n",
    "mapped_data = list(map(lambda x: (x*2), data))"
   ]
  },
  {
   "cell_type": "code",
   "execution_count": 72,
   "id": "6b4861e2",
   "metadata": {},
   "outputs": [
    {
     "data": {
      "text/plain": [
       "[2, 4, 6, 8, 10, 12, 14, 16, 18, 20]"
      ]
     },
     "execution_count": 72,
     "metadata": {},
     "output_type": "execute_result"
    }
   ],
   "source": [
    "mapped_data"
   ]
  },
  {
   "cell_type": "code",
   "execution_count": 80,
   "id": "c5df3154",
   "metadata": {},
   "outputs": [],
   "source": [
    "# Reducir los datos\n",
    "reduced_data = reduce(lambda x, y: (x+y), data)"
   ]
  },
  {
   "cell_type": "code",
   "execution_count": 81,
   "id": "842bee09",
   "metadata": {},
   "outputs": [
    {
     "data": {
      "text/plain": [
       "55"
      ]
     },
     "execution_count": 81,
     "metadata": {},
     "output_type": "execute_result"
    }
   ],
   "source": [
    "reduced_data"
   ]
  },
  {
   "cell_type": "code",
   "execution_count": null,
   "id": "66cbcab7",
   "metadata": {},
   "outputs": [],
   "source": []
  }
 ],
 "metadata": {
  "kernelspec": {
   "display_name": "Python 3 (ipykernel)",
   "language": "python",
   "name": "python3"
  },
  "language_info": {
   "codemirror_mode": {
    "name": "ipython",
    "version": 3
   },
   "file_extension": ".py",
   "mimetype": "text/x-python",
   "name": "python",
   "nbconvert_exporter": "python",
   "pygments_lexer": "ipython3",
   "version": "3.9.5"
  }
 },
 "nbformat": 4,
 "nbformat_minor": 5
}
